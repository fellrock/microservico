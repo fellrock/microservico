{
 "cells": [
  {
   "cell_type": "markdown",
   "metadata": {},
   "source": [
    "# Bibliotecas"
   ]
  },
  {
   "cell_type": "code",
   "execution_count": 1,
   "metadata": {},
   "outputs": [],
   "source": [
    "import pandas as pd\n",
    "from sklearn.feature_extraction.text import CountVectorizer\n",
    "from sklearn.model_selection import cross_val_predict\n",
    "from sklearn.naive_bayes import MultinomialNB\n",
    "from sklearn.pipeline import Pipeline\n",
    "from sklearn import metrics\n",
    "from joblib import dump"
   ]
  },
  {
   "cell_type": "markdown",
   "metadata": {},
   "source": [
    "# Entendendo os Dados"
   ]
  },
  {
   "cell_type": "code",
   "execution_count": 2,
   "metadata": {},
   "outputs": [
    {
     "data": {
      "text/html": [
       "<div>\n",
       "<style scoped>\n",
       "    .dataframe tbody tr th:only-of-type {\n",
       "        vertical-align: middle;\n",
       "    }\n",
       "\n",
       "    .dataframe tbody tr th {\n",
       "        vertical-align: top;\n",
       "    }\n",
       "\n",
       "    .dataframe thead th {\n",
       "        text-align: right;\n",
       "    }\n",
       "</style>\n",
       "<table border=\"1\" class=\"dataframe\">\n",
       "  <thead>\n",
       "    <tr style=\"text-align: right;\">\n",
       "      <th></th>\n",
       "      <th>0</th>\n",
       "      <th>1</th>\n",
       "      <th>2</th>\n",
       "      <th>3</th>\n",
       "      <th>4</th>\n",
       "    </tr>\n",
       "  </thead>\n",
       "  <tbody>\n",
       "    <tr>\n",
       "      <th>Unnamed: 0</th>\n",
       "      <td>0</td>\n",
       "      <td>1</td>\n",
       "      <td>2</td>\n",
       "      <td>3</td>\n",
       "      <td>4</td>\n",
       "    </tr>\n",
       "    <tr>\n",
       "      <th>Created At</th>\n",
       "      <td>Sun Jan 08 01:22:05 +0000 2017</td>\n",
       "      <td>Sun Jan 08 01:49:01 +0000 2017</td>\n",
       "      <td>Sun Jan 08 01:01:46 +0000 2017</td>\n",
       "      <td>Wed Jan 04 21:43:51 +0000 2017</td>\n",
       "      <td>Mon Jan 09 15:08:21 +0000 2017</td>\n",
       "    </tr>\n",
       "    <tr>\n",
       "      <th>Text</th>\n",
       "      <td>���⛪ @ Catedral de Santo Antônio - Governador ...</td>\n",
       "      <td>� @ Governador Valadares, Minas Gerais https:/...</td>\n",
       "      <td>�� @ Governador Valadares, Minas Gerais https:...</td>\n",
       "      <td>��� https://t.co/BnDsO34qK0</td>\n",
       "      <td>��� PSOL vai questionar aumento de vereadores ...</td>\n",
       "    </tr>\n",
       "    <tr>\n",
       "      <th>Geo Coordinates.latitude</th>\n",
       "      <td>NaN</td>\n",
       "      <td>-41.9333</td>\n",
       "      <td>-41.9333</td>\n",
       "      <td>NaN</td>\n",
       "      <td>NaN</td>\n",
       "    </tr>\n",
       "    <tr>\n",
       "      <th>Geo Coordinates.longitude</th>\n",
       "      <td>NaN</td>\n",
       "      <td>-18.85</td>\n",
       "      <td>-18.85</td>\n",
       "      <td>NaN</td>\n",
       "      <td>NaN</td>\n",
       "    </tr>\n",
       "    <tr>\n",
       "      <th>User Location</th>\n",
       "      <td>Brasil</td>\n",
       "      <td>NaN</td>\n",
       "      <td>NaN</td>\n",
       "      <td>NaN</td>\n",
       "      <td>NaN</td>\n",
       "    </tr>\n",
       "    <tr>\n",
       "      <th>Username</th>\n",
       "      <td>Leonardo C Schneider</td>\n",
       "      <td>Wândell</td>\n",
       "      <td>Wândell</td>\n",
       "      <td>Ana estudando</td>\n",
       "      <td>Emily</td>\n",
       "    </tr>\n",
       "    <tr>\n",
       "      <th>User Screen Name</th>\n",
       "      <td>LeoCSchneider</td>\n",
       "      <td>klefnews</td>\n",
       "      <td>klefnews</td>\n",
       "      <td>estudandoconcur</td>\n",
       "      <td>Milly777</td>\n",
       "    </tr>\n",
       "    <tr>\n",
       "      <th>Retweet Count</th>\n",
       "      <td>0</td>\n",
       "      <td>0</td>\n",
       "      <td>0</td>\n",
       "      <td>0</td>\n",
       "      <td>0</td>\n",
       "    </tr>\n",
       "    <tr>\n",
       "      <th>Classificacao</th>\n",
       "      <td>Neutro</td>\n",
       "      <td>Neutro</td>\n",
       "      <td>Neutro</td>\n",
       "      <td>Neutro</td>\n",
       "      <td>Negativo</td>\n",
       "    </tr>\n",
       "    <tr>\n",
       "      <th>Observação</th>\n",
       "      <td>NaN</td>\n",
       "      <td>NaN</td>\n",
       "      <td>NaN</td>\n",
       "      <td>NaN</td>\n",
       "      <td>NaN</td>\n",
       "    </tr>\n",
       "    <tr>\n",
       "      <th>Unnamed: 10</th>\n",
       "      <td>NaN</td>\n",
       "      <td>NaN</td>\n",
       "      <td>NaN</td>\n",
       "      <td>NaN</td>\n",
       "      <td>NaN</td>\n",
       "    </tr>\n",
       "    <tr>\n",
       "      <th>Unnamed: 11</th>\n",
       "      <td>NaN</td>\n",
       "      <td>NaN</td>\n",
       "      <td>NaN</td>\n",
       "      <td>NaN</td>\n",
       "      <td>NaN</td>\n",
       "    </tr>\n",
       "    <tr>\n",
       "      <th>Unnamed: 12</th>\n",
       "      <td>NaN</td>\n",
       "      <td>NaN</td>\n",
       "      <td>NaN</td>\n",
       "      <td>NaN</td>\n",
       "      <td>NaN</td>\n",
       "    </tr>\n",
       "    <tr>\n",
       "      <th>Unnamed: 13</th>\n",
       "      <td>NaN</td>\n",
       "      <td>NaN</td>\n",
       "      <td>NaN</td>\n",
       "      <td>NaN</td>\n",
       "      <td>NaN</td>\n",
       "    </tr>\n",
       "    <tr>\n",
       "      <th>Unnamed: 14</th>\n",
       "      <td>NaN</td>\n",
       "      <td>NaN</td>\n",
       "      <td>NaN</td>\n",
       "      <td>NaN</td>\n",
       "      <td>NaN</td>\n",
       "    </tr>\n",
       "    <tr>\n",
       "      <th>Unnamed: 15</th>\n",
       "      <td>NaN</td>\n",
       "      <td>NaN</td>\n",
       "      <td>NaN</td>\n",
       "      <td>NaN</td>\n",
       "      <td>NaN</td>\n",
       "    </tr>\n",
       "    <tr>\n",
       "      <th>Unnamed: 16</th>\n",
       "      <td>NaN</td>\n",
       "      <td>NaN</td>\n",
       "      <td>NaN</td>\n",
       "      <td>NaN</td>\n",
       "      <td>NaN</td>\n",
       "    </tr>\n",
       "    <tr>\n",
       "      <th>Unnamed: 17</th>\n",
       "      <td>NaN</td>\n",
       "      <td>NaN</td>\n",
       "      <td>NaN</td>\n",
       "      <td>NaN</td>\n",
       "      <td>NaN</td>\n",
       "    </tr>\n",
       "    <tr>\n",
       "      <th>Unnamed: 18</th>\n",
       "      <td>NaN</td>\n",
       "      <td>NaN</td>\n",
       "      <td>NaN</td>\n",
       "      <td>NaN</td>\n",
       "      <td>NaN</td>\n",
       "    </tr>\n",
       "    <tr>\n",
       "      <th>Unnamed: 19</th>\n",
       "      <td>NaN</td>\n",
       "      <td>NaN</td>\n",
       "      <td>NaN</td>\n",
       "      <td>NaN</td>\n",
       "      <td>NaN</td>\n",
       "    </tr>\n",
       "    <tr>\n",
       "      <th>Unnamed: 20</th>\n",
       "      <td>NaN</td>\n",
       "      <td>NaN</td>\n",
       "      <td>NaN</td>\n",
       "      <td>NaN</td>\n",
       "      <td>NaN</td>\n",
       "    </tr>\n",
       "    <tr>\n",
       "      <th>Unnamed: 21</th>\n",
       "      <td>NaN</td>\n",
       "      <td>NaN</td>\n",
       "      <td>NaN</td>\n",
       "      <td>NaN</td>\n",
       "      <td>NaN</td>\n",
       "    </tr>\n",
       "    <tr>\n",
       "      <th>Unnamed: 22</th>\n",
       "      <td>NaN</td>\n",
       "      <td>NaN</td>\n",
       "      <td>NaN</td>\n",
       "      <td>NaN</td>\n",
       "      <td>NaN</td>\n",
       "    </tr>\n",
       "    <tr>\n",
       "      <th>Unnamed: 23</th>\n",
       "      <td>NaN</td>\n",
       "      <td>NaN</td>\n",
       "      <td>NaN</td>\n",
       "      <td>NaN</td>\n",
       "      <td>NaN</td>\n",
       "    </tr>\n",
       "    <tr>\n",
       "      <th>Unnamed: 24</th>\n",
       "      <td>NaN</td>\n",
       "      <td>NaN</td>\n",
       "      <td>NaN</td>\n",
       "      <td>NaN</td>\n",
       "      <td>NaN</td>\n",
       "    </tr>\n",
       "  </tbody>\n",
       "</table>\n",
       "</div>"
      ],
      "text/plain": [
       "                                                                           0  \\\n",
       "Unnamed: 0                                                                 0   \n",
       "Created At                                    Sun Jan 08 01:22:05 +0000 2017   \n",
       "Text                       ���⛪ @ Catedral de Santo Antônio - Governador ...   \n",
       "Geo Coordinates.latitude                                                 NaN   \n",
       "Geo Coordinates.longitude                                                NaN   \n",
       "User Location                                                         Brasil   \n",
       "Username                                                Leonardo C Schneider   \n",
       "User Screen Name                                               LeoCSchneider   \n",
       "Retweet Count                                                              0   \n",
       "Classificacao                                                         Neutro   \n",
       "Observação                                                               NaN   \n",
       "Unnamed: 10                                                              NaN   \n",
       "Unnamed: 11                                                              NaN   \n",
       "Unnamed: 12                                                              NaN   \n",
       "Unnamed: 13                                                              NaN   \n",
       "Unnamed: 14                                                              NaN   \n",
       "Unnamed: 15                                                              NaN   \n",
       "Unnamed: 16                                                              NaN   \n",
       "Unnamed: 17                                                              NaN   \n",
       "Unnamed: 18                                                              NaN   \n",
       "Unnamed: 19                                                              NaN   \n",
       "Unnamed: 20                                                              NaN   \n",
       "Unnamed: 21                                                              NaN   \n",
       "Unnamed: 22                                                              NaN   \n",
       "Unnamed: 23                                                              NaN   \n",
       "Unnamed: 24                                                              NaN   \n",
       "\n",
       "                                                                           1  \\\n",
       "Unnamed: 0                                                                 1   \n",
       "Created At                                    Sun Jan 08 01:49:01 +0000 2017   \n",
       "Text                       � @ Governador Valadares, Minas Gerais https:/...   \n",
       "Geo Coordinates.latitude                                            -41.9333   \n",
       "Geo Coordinates.longitude                                             -18.85   \n",
       "User Location                                                            NaN   \n",
       "Username                                                             Wândell   \n",
       "User Screen Name                                                    klefnews   \n",
       "Retweet Count                                                              0   \n",
       "Classificacao                                                         Neutro   \n",
       "Observação                                                               NaN   \n",
       "Unnamed: 10                                                              NaN   \n",
       "Unnamed: 11                                                              NaN   \n",
       "Unnamed: 12                                                              NaN   \n",
       "Unnamed: 13                                                              NaN   \n",
       "Unnamed: 14                                                              NaN   \n",
       "Unnamed: 15                                                              NaN   \n",
       "Unnamed: 16                                                              NaN   \n",
       "Unnamed: 17                                                              NaN   \n",
       "Unnamed: 18                                                              NaN   \n",
       "Unnamed: 19                                                              NaN   \n",
       "Unnamed: 20                                                              NaN   \n",
       "Unnamed: 21                                                              NaN   \n",
       "Unnamed: 22                                                              NaN   \n",
       "Unnamed: 23                                                              NaN   \n",
       "Unnamed: 24                                                              NaN   \n",
       "\n",
       "                                                                           2  \\\n",
       "Unnamed: 0                                                                 2   \n",
       "Created At                                    Sun Jan 08 01:01:46 +0000 2017   \n",
       "Text                       �� @ Governador Valadares, Minas Gerais https:...   \n",
       "Geo Coordinates.latitude                                            -41.9333   \n",
       "Geo Coordinates.longitude                                             -18.85   \n",
       "User Location                                                            NaN   \n",
       "Username                                                             Wândell   \n",
       "User Screen Name                                                    klefnews   \n",
       "Retweet Count                                                              0   \n",
       "Classificacao                                                         Neutro   \n",
       "Observação                                                               NaN   \n",
       "Unnamed: 10                                                              NaN   \n",
       "Unnamed: 11                                                              NaN   \n",
       "Unnamed: 12                                                              NaN   \n",
       "Unnamed: 13                                                              NaN   \n",
       "Unnamed: 14                                                              NaN   \n",
       "Unnamed: 15                                                              NaN   \n",
       "Unnamed: 16                                                              NaN   \n",
       "Unnamed: 17                                                              NaN   \n",
       "Unnamed: 18                                                              NaN   \n",
       "Unnamed: 19                                                              NaN   \n",
       "Unnamed: 20                                                              NaN   \n",
       "Unnamed: 21                                                              NaN   \n",
       "Unnamed: 22                                                              NaN   \n",
       "Unnamed: 23                                                              NaN   \n",
       "Unnamed: 24                                                              NaN   \n",
       "\n",
       "                                                        3  \\\n",
       "Unnamed: 0                                              3   \n",
       "Created At                 Wed Jan 04 21:43:51 +0000 2017   \n",
       "Text                          ��� https://t.co/BnDsO34qK0   \n",
       "Geo Coordinates.latitude                              NaN   \n",
       "Geo Coordinates.longitude                             NaN   \n",
       "User Location                                         NaN   \n",
       "Username                                    Ana estudando   \n",
       "User Screen Name                          estudandoconcur   \n",
       "Retweet Count                                           0   \n",
       "Classificacao                                      Neutro   \n",
       "Observação                                            NaN   \n",
       "Unnamed: 10                                           NaN   \n",
       "Unnamed: 11                                           NaN   \n",
       "Unnamed: 12                                           NaN   \n",
       "Unnamed: 13                                           NaN   \n",
       "Unnamed: 14                                           NaN   \n",
       "Unnamed: 15                                           NaN   \n",
       "Unnamed: 16                                           NaN   \n",
       "Unnamed: 17                                           NaN   \n",
       "Unnamed: 18                                           NaN   \n",
       "Unnamed: 19                                           NaN   \n",
       "Unnamed: 20                                           NaN   \n",
       "Unnamed: 21                                           NaN   \n",
       "Unnamed: 22                                           NaN   \n",
       "Unnamed: 23                                           NaN   \n",
       "Unnamed: 24                                           NaN   \n",
       "\n",
       "                                                                           4  \n",
       "Unnamed: 0                                                                 4  \n",
       "Created At                                    Mon Jan 09 15:08:21 +0000 2017  \n",
       "Text                       ��� PSOL vai questionar aumento de vereadores ...  \n",
       "Geo Coordinates.latitude                                                 NaN  \n",
       "Geo Coordinates.longitude                                                NaN  \n",
       "User Location                                                            NaN  \n",
       "Username                                                               Emily  \n",
       "User Screen Name                                                    Milly777  \n",
       "Retweet Count                                                              0  \n",
       "Classificacao                                                       Negativo  \n",
       "Observação                                                               NaN  \n",
       "Unnamed: 10                                                              NaN  \n",
       "Unnamed: 11                                                              NaN  \n",
       "Unnamed: 12                                                              NaN  \n",
       "Unnamed: 13                                                              NaN  \n",
       "Unnamed: 14                                                              NaN  \n",
       "Unnamed: 15                                                              NaN  \n",
       "Unnamed: 16                                                              NaN  \n",
       "Unnamed: 17                                                              NaN  \n",
       "Unnamed: 18                                                              NaN  \n",
       "Unnamed: 19                                                              NaN  \n",
       "Unnamed: 20                                                              NaN  \n",
       "Unnamed: 21                                                              NaN  \n",
       "Unnamed: 22                                                              NaN  \n",
       "Unnamed: 23                                                              NaN  \n",
       "Unnamed: 24                                                              NaN  "
      ]
     },
     "execution_count": 2,
     "metadata": {},
     "output_type": "execute_result"
    }
   ],
   "source": [
    "tweets = pd.read_csv('Tweets_Mg.csv')\n",
    "tweets.head().T"
   ]
  },
  {
   "cell_type": "markdown",
   "metadata": {},
   "source": [
    "# Preparação dos Dados"
   ]
  },
  {
   "cell_type": "code",
   "execution_count": 32,
   "metadata": {},
   "outputs": [
    {
     "data": {
      "text/plain": [
       "'��� PSOL vai questionar aumento de vereadores e prefeito de BH na Justiça - Politica - Estado de Minas https://t.co/DMg7BGsek5'"
      ]
     },
     "execution_count": 32,
     "metadata": {},
     "output_type": "execute_result"
    }
   ],
   "source": [
    "tweets[4]"
   ]
  },
  {
   "cell_type": "code",
   "execution_count": 3,
   "metadata": {},
   "outputs": [],
   "source": [
    "classes = tweets ['Classificacao']\n",
    "tweets = tweets['Text']"
   ]
  },
  {
   "cell_type": "code",
   "execution_count": 4,
   "metadata": {},
   "outputs": [
    {
     "data": {
      "text/plain": [
       "CountVectorizer()"
      ]
     },
     "execution_count": 4,
     "metadata": {},
     "output_type": "execute_result"
    }
   ],
   "source": [
    "transformador = CountVectorizer()\n",
    "transformador"
   ]
  },
  {
   "cell_type": "code",
   "execution_count": 5,
   "metadata": {},
   "outputs": [
    {
     "data": {
      "text/plain": [
       "(8199, 13029)"
      ]
     },
     "execution_count": 5,
     "metadata": {},
     "output_type": "execute_result"
    }
   ],
   "source": [
    "tabela_freq = transformador.fit_transform(tweets)\n",
    "tabela_freq.shape"
   ]
  },
  {
   "cell_type": "code",
   "execution_count": 6,
   "metadata": {},
   "outputs": [
    {
     "data": {
      "text/plain": [
       "matrix([[0, 0, 0, ..., 0, 0, 0]])"
      ]
     },
     "execution_count": 6,
     "metadata": {},
     "output_type": "execute_result"
    }
   ],
   "source": [
    "tabela_freq[0].todense()"
   ]
  },
  {
   "cell_type": "code",
   "execution_count": 7,
   "metadata": {},
   "outputs": [
    {
     "data": {
      "text/plain": [
       "'���⛪ @ Catedral de Santo Antônio - Governador Valadares/MG https://t.co/JSbKamIqUJ'"
      ]
     },
     "execution_count": 7,
     "metadata": {},
     "output_type": "execute_result"
    }
   ],
   "source": [
    "tweets[0]"
   ]
  },
  {
   "cell_type": "code",
   "execution_count": 8,
   "metadata": {
    "scrolled": true
   },
   "outputs": [
    {
     "name": "stdout",
     "output_type": "stream",
     "text": [
      "{'catedral': 2638, 'de': 3433, 'santo': 10434, 'antônio': 1645, 'governador': 5391, 'valadares': 118\n"
     ]
    }
   ],
   "source": [
    "print(str(transformador.vocabulary_)[:100])"
   ]
  },
  {
   "cell_type": "code",
   "execution_count": 12,
   "metadata": {
    "scrolled": true
   },
   "outputs": [
    {
     "data": {
      "text/plain": [
       "matrix([[0, 1, 0]])"
      ]
     },
     "execution_count": 12,
     "metadata": {},
     "output_type": "execute_result"
    }
   ],
   "source": [
    "tabela_freq[0].todense()[0, 2637:2640]"
   ]
  },
  {
   "cell_type": "markdown",
   "metadata": {},
   "source": [
    "# Modelo"
   ]
  },
  {
   "cell_type": "code",
   "execution_count": 13,
   "metadata": {},
   "outputs": [
    {
     "data": {
      "text/plain": [
       "MultinomialNB()"
      ]
     },
     "execution_count": 13,
     "metadata": {},
     "output_type": "execute_result"
    }
   ],
   "source": [
    "modelo = MultinomialNB()\n",
    "modelo.fit(tabela_freq, classes)\n",
    "modelo"
   ]
  },
  {
   "cell_type": "code",
   "execution_count": 15,
   "metadata": {},
   "outputs": [],
   "source": [
    "testes = [\n",
    "    \"Eu amo lasanha\", #positivo\n",
    "    \"Eu amo frango\", #positivo\n",
    "    \"Tenho raiva de quem diz que odeia.\", #negativo\n",
    "    \"O dia tá feio\", #negativo\n",
    "    \"perdi o onibus\", #negativo\n",
    "    \"tanto faz suco ou água\", # neutro acertou\n",
    "    \"Nem fede nem cheira mesmo.\" #neutro\n",
    "]"
   ]
  },
  {
   "cell_type": "code",
   "execution_count": 18,
   "metadata": {},
   "outputs": [],
   "source": [
    "# modelo.predict([testes])"
   ]
  },
  {
   "cell_type": "code",
   "execution_count": 19,
   "metadata": {
    "scrolled": true
   },
   "outputs": [
    {
     "data": {
      "text/plain": [
       "<7x13029 sparse matrix of type '<class 'numpy.int64'>'\n",
       "\twith 19 stored elements in Compressed Sparse Row format>"
      ]
     },
     "execution_count": 19,
     "metadata": {},
     "output_type": "execute_result"
    }
   ],
   "source": [
    "passo_1 = transformador.transform(testes)\n",
    "passo_1"
   ]
  },
  {
   "cell_type": "code",
   "execution_count": 20,
   "metadata": {},
   "outputs": [
    {
     "data": {
      "text/plain": [
       "array(['Neutro', 'Neutro', 'Neutro', 'Neutro', 'Neutro', 'Neutro',\n",
       "       'Negativo'], dtype='<U8')"
      ]
     },
     "execution_count": 20,
     "metadata": {},
     "output_type": "execute_result"
    }
   ],
   "source": [
    "passo_2 = modelo.predict(passo_1)\n",
    "passo_2"
   ]
  },
  {
   "cell_type": "code",
   "execution_count": 21,
   "metadata": {},
   "outputs": [
    {
     "data": {
      "text/plain": [
       "Pipeline(steps=[('transformador', CountVectorizer()),\n",
       "                ('modelo', MultinomialNB())])"
      ]
     },
     "execution_count": 21,
     "metadata": {},
     "output_type": "execute_result"
    }
   ],
   "source": [
    "pipe = Pipeline([('transformador', transformador), ('modelo', modelo)])\n",
    "pipe"
   ]
  },
  {
   "cell_type": "code",
   "execution_count": 22,
   "metadata": {},
   "outputs": [
    {
     "data": {
      "text/plain": [
       "array(['Neutro', 'Neutro', 'Neutro', 'Neutro', 'Neutro', 'Neutro',\n",
       "       'Negativo'], dtype='<U8')"
      ]
     },
     "execution_count": 22,
     "metadata": {},
     "output_type": "execute_result"
    }
   ],
   "source": [
    "pipe.predict(testes)"
   ]
  },
  {
   "cell_type": "code",
   "execution_count": 33,
   "metadata": {},
   "outputs": [
    {
     "data": {
      "text/plain": [
       "array(['Negativo'], dtype='<U8')"
      ]
     },
     "execution_count": 33,
     "metadata": {},
     "output_type": "execute_result"
    }
   ],
   "source": [
    "pipe.predict(['A maça questionar STF'])"
   ]
  },
  {
   "cell_type": "markdown",
   "metadata": {},
   "source": [
    "# Avaliação"
   ]
  },
  {
   "cell_type": "code",
   "execution_count": 27,
   "metadata": {},
   "outputs": [
    {
     "data": {
      "text/plain": [
       "array(['Neutro', 'Neutro', 'Neutro', ..., 'Positivo', 'Positivo',\n",
       "       'Positivo'], dtype='<U8')"
      ]
     },
     "execution_count": 27,
     "metadata": {},
     "output_type": "execute_result"
    }
   ],
   "source": [
    "resultados = cross_val_predict(pipe, tweets, classes, cv = 10)\n",
    "resultados"
   ]
  },
  {
   "cell_type": "code",
   "execution_count": 28,
   "metadata": {},
   "outputs": [
    {
     "name": "stdout",
     "output_type": "stream",
     "text": [
      "Predito   Negativo  Neutro  Positivo\n",
      "Real                                \n",
      "Negativo      2277     160         9\n",
      "Neutro         241    2050       162\n",
      "Positivo        42     347      2911\n"
     ]
    }
   ],
   "source": [
    "print(pd.crosstab(classes, resultados, rownames = [\"Real\"], colnames=[\"Predito\"]))"
   ]
  },
  {
   "cell_type": "code",
   "execution_count": 29,
   "metadata": {},
   "outputs": [
    {
     "data": {
      "text/plain": [
       "0.8827905842175875"
      ]
     },
     "execution_count": 29,
     "metadata": {},
     "output_type": "execute_result"
    }
   ],
   "source": [
    "(2277 + 2050 + 2911)/8199"
   ]
  },
  {
   "cell_type": "markdown",
   "metadata": {},
   "source": [
    "# Implantação"
   ]
  },
  {
   "cell_type": "code",
   "execution_count": 30,
   "metadata": {},
   "outputs": [
    {
     "data": {
      "text/plain": [
       "['pipeline.joblib']"
      ]
     },
     "execution_count": 30,
     "metadata": {},
     "output_type": "execute_result"
    }
   ],
   "source": [
    "dump(pipe, 'pipeline.joblib')"
   ]
  },
  {
   "cell_type": "markdown",
   "metadata": {},
   "source": [
    "Referências\n",
    "=== \n",
    "\n",
    "<https://www.kaggle.com/leandrodoze/sentiment-analysis-in-portuguese>  \n",
    "<https://github.com/minerandodados/mdrepo>"
   ]
  }
 ],
 "metadata": {
  "kernelspec": {
   "display_name": "Python 3",
   "language": "python",
   "name": "python3"
  },
  "language_info": {
   "codemirror_mode": {
    "name": "ipython",
    "version": 3
   },
   "file_extension": ".py",
   "mimetype": "text/x-python",
   "name": "python",
   "nbconvert_exporter": "python",
   "pygments_lexer": "ipython3",
   "version": "3.6.9"
  }
 },
 "nbformat": 4,
 "nbformat_minor": 4
}
